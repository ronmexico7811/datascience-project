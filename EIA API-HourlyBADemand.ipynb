{
 "cells": [
  {
   "cell_type": "markdown",
   "metadata": {},
   "source": [
    "# Enron 2.0: Predicting California's Energy Consumption\n",
    "\n",
    "## Team Members:\n",
    "\n",
    "**Names:** John W. Muhs, Corbett Carell\n",
    "<br>**Emails:** <u0761102,u0502104>@utah.edu</br>\n",
    "<br>**Github Repository:** [JohnWMuhs/2019-datascience-project](https://github.com/JohnWMuhs/2019-datascience-project \"2019 Data Science Project Github Repo\")"
   ]
  },
  {
   "cell_type": "code",
   "execution_count": 76,
   "metadata": {},
   "outputs": [],
   "source": [
    "import pandas as pd\n",
    "import matplotlib as plt\n",
    "import json\n",
    "import requests "
   ]
  },
  {
   "cell_type": "code",
   "execution_count": 67,
   "metadata": {},
   "outputs": [],
   "source": [
    "EIA_api_key = '53e6a63887dc05efe150165fa890f8da'\n",
    "\n",
    "'''\n",
    "Hourly Electrici\n",
    "'''\n",
    "\n",
    "urls = {'CAISO_HourlyLoad':'http://api.eia.gov/series/?api_key='+EIA_api_key+'&series_id=EBA.CISO-ALL.D.H',\n",
    "        'California_HourlyLoad':'http://api.eia.gov/series/?api_key='+EIA_api_key+'&series_id=EBA.CAL-ALL.D.H'}\n",
    "\n",
    "newPull = 0"
   ]
  },
  {
   "cell_type": "code",
   "execution_count": 72,
   "metadata": {},
   "outputs": [],
   "source": [
    "df = pd.DataFrame()\n",
    "i = 0\n",
    "for key in urls:\n",
    "    if newPull == 0:\n",
    "        EIAData = requests.get(urls[key])\n",
    "        EIAData = EIAData.content.decode(\"utf-8\")\n",
    "        EIAdict = json.loads(EIAData)\n",
    "        \n",
    "    dfEIA = pd.DataFrame.from_dict(EIAdict['series'])\n",
    "    dfEIA = dfEIA['data'][0]\n",
    "        \n",
    "    dfEIA = pd.DataFrame(dfEIA)\n",
    "    #print(dfEIA[0])\n",
    "    \n",
    "    while i != 1:\n",
    "        df['DateTime'] = pd.to_datetime(dfEIA[0],format='%Y%m%dT%H', errors='ignore')\n",
    "        df['DateTime'] = df['DateTime'].dt.tz_convert('America/Los_Angeles')\n",
    "        i += 1\n",
    "        \n",
    "    df[str(key)] = dfEIA[1]"
   ]
  },
  {
   "cell_type": "code",
   "execution_count": 73,
   "metadata": {},
   "outputs": [
    {
     "data": {
      "text/html": [
       "<div>\n",
       "<style scoped>\n",
       "    .dataframe tbody tr th:only-of-type {\n",
       "        vertical-align: middle;\n",
       "    }\n",
       "\n",
       "    .dataframe tbody tr th {\n",
       "        vertical-align: top;\n",
       "    }\n",
       "\n",
       "    .dataframe thead th {\n",
       "        text-align: right;\n",
       "    }\n",
       "</style>\n",
       "<table border=\"1\" class=\"dataframe\">\n",
       "  <thead>\n",
       "    <tr style=\"text-align: right;\">\n",
       "      <th></th>\n",
       "      <th>DateTime</th>\n",
       "      <th>CAISO_HourlyLoad</th>\n",
       "      <th>California_HourlyLoad</th>\n",
       "    </tr>\n",
       "  </thead>\n",
       "  <tbody>\n",
       "    <tr>\n",
       "      <th>0</th>\n",
       "      <td>2019-03-24 10:00:00-07:00</td>\n",
       "      <td>17326.0</td>\n",
       "      <td>22080</td>\n",
       "    </tr>\n",
       "    <tr>\n",
       "      <th>1</th>\n",
       "      <td>2019-03-24 09:00:00-07:00</td>\n",
       "      <td>17772.0</td>\n",
       "      <td>22292</td>\n",
       "    </tr>\n",
       "    <tr>\n",
       "      <th>2</th>\n",
       "      <td>2019-03-24 08:00:00-07:00</td>\n",
       "      <td>17737.0</td>\n",
       "      <td>22133</td>\n",
       "    </tr>\n",
       "    <tr>\n",
       "      <th>3</th>\n",
       "      <td>2019-03-24 07:00:00-07:00</td>\n",
       "      <td>17629.0</td>\n",
       "      <td>21941</td>\n",
       "    </tr>\n",
       "    <tr>\n",
       "      <th>4</th>\n",
       "      <td>2019-03-24 06:00:00-07:00</td>\n",
       "      <td>16959.0</td>\n",
       "      <td>21085</td>\n",
       "    </tr>\n",
       "  </tbody>\n",
       "</table>\n",
       "</div>"
      ],
      "text/plain": [
       "                   DateTime  CAISO_HourlyLoad  California_HourlyLoad\n",
       "0 2019-03-24 10:00:00-07:00           17326.0                  22080\n",
       "1 2019-03-24 09:00:00-07:00           17772.0                  22292\n",
       "2 2019-03-24 08:00:00-07:00           17737.0                  22133\n",
       "3 2019-03-24 07:00:00-07:00           17629.0                  21941\n",
       "4 2019-03-24 06:00:00-07:00           16959.0                  21085"
      ]
     },
     "execution_count": 73,
     "metadata": {},
     "output_type": "execute_result"
    }
   ],
   "source": [
    "df.head()"
   ]
  },
  {
   "cell_type": "code",
   "execution_count": 74,
   "metadata": {},
   "outputs": [
    {
     "data": {
      "text/html": [
       "<div>\n",
       "<style scoped>\n",
       "    .dataframe tbody tr th:only-of-type {\n",
       "        vertical-align: middle;\n",
       "    }\n",
       "\n",
       "    .dataframe tbody tr th {\n",
       "        vertical-align: top;\n",
       "    }\n",
       "\n",
       "    .dataframe thead th {\n",
       "        text-align: right;\n",
       "    }\n",
       "</style>\n",
       "<table border=\"1\" class=\"dataframe\">\n",
       "  <thead>\n",
       "    <tr style=\"text-align: right;\">\n",
       "      <th></th>\n",
       "      <th>DateTime</th>\n",
       "      <th>CAISO_HourlyLoad</th>\n",
       "      <th>California_HourlyLoad</th>\n",
       "    </tr>\n",
       "  </thead>\n",
       "  <tbody>\n",
       "    <tr>\n",
       "      <th>32692</th>\n",
       "      <td>2015-07-01 05:00:00-07:00</td>\n",
       "      <td>25661.0</td>\n",
       "      <td>31540</td>\n",
       "    </tr>\n",
       "    <tr>\n",
       "      <th>32693</th>\n",
       "      <td>2015-07-01 04:00:00-07:00</td>\n",
       "      <td>26388.0</td>\n",
       "      <td>31199</td>\n",
       "    </tr>\n",
       "    <tr>\n",
       "      <th>32694</th>\n",
       "      <td>2015-07-01 03:00:00-07:00</td>\n",
       "      <td>27416.0</td>\n",
       "      <td>31955</td>\n",
       "    </tr>\n",
       "    <tr>\n",
       "      <th>32695</th>\n",
       "      <td>2015-07-01 02:00:00-07:00</td>\n",
       "      <td>28989.0</td>\n",
       "      <td>33243</td>\n",
       "    </tr>\n",
       "    <tr>\n",
       "      <th>32696</th>\n",
       "      <td>2015-07-01 01:00:00-07:00</td>\n",
       "      <td>31486.0</td>\n",
       "      <td>35171</td>\n",
       "    </tr>\n",
       "  </tbody>\n",
       "</table>\n",
       "</div>"
      ],
      "text/plain": [
       "                       DateTime  CAISO_HourlyLoad  California_HourlyLoad\n",
       "32692 2015-07-01 05:00:00-07:00           25661.0                  31540\n",
       "32693 2015-07-01 04:00:00-07:00           26388.0                  31199\n",
       "32694 2015-07-01 03:00:00-07:00           27416.0                  31955\n",
       "32695 2015-07-01 02:00:00-07:00           28989.0                  33243\n",
       "32696 2015-07-01 01:00:00-07:00           31486.0                  35171"
      ]
     },
     "execution_count": 74,
     "metadata": {},
     "output_type": "execute_result"
    }
   ],
   "source": [
    "df.tail()"
   ]
  }
 ],
 "metadata": {
  "kernelspec": {
   "display_name": "Python 3",
   "language": "python",
   "name": "python3"
  },
  "language_info": {
   "codemirror_mode": {
    "name": "ipython",
    "version": 3
   },
   "file_extension": ".py",
   "mimetype": "text/x-python",
   "name": "python",
   "nbconvert_exporter": "python",
   "pygments_lexer": "ipython3",
   "version": "3.6.8"
  }
 },
 "nbformat": 4,
 "nbformat_minor": 2
}
