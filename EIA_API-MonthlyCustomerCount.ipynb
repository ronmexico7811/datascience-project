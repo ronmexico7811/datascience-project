{
 "cells": [
  {
   "cell_type": "markdown",
   "metadata": {},
   "source": [
    "# Enron 2.0: Predicting California's Energy Consumption\n",
    "\n",
    "## Team Members:\n",
    "\n",
    "**Names:** John W. Muhs, Corbett Carell\n",
    "<br>**Emails:** <u0761102,u0502104>@utah.edu</br>\n",
    "<br>**Github Repository:** [JohnWMuhs/2019-datascience-project](https://github.com/JohnWMuhs/2019-datascience-project \"2019 Data Science Project Github Repo\")"
   ]
  },
  {
   "cell_type": "code",
   "execution_count": 111,
   "metadata": {},
   "outputs": [],
   "source": [
    "import pandas as pd\n",
    "import matplotlib as plt\n",
    "import json\n",
    "import requests "
   ]
  },
  {
   "cell_type": "code",
   "execution_count": 127,
   "metadata": {},
   "outputs": [],
   "source": [
    "EIA_api_key = '53e6a63887dc05efe150165fa890f8da'\n",
    "\n",
    "'''\n",
    "Monthly Customer Count Data\n",
    "'''\n",
    "\n",
    "urls = {'CA_CustomerCount':'http://api.eia.gov/series/?api_key='+EIA_api_key+'&series_id=ELEC.CUSTOMERS.CA-ALL.M'}\n",
    "\n",
    "\n",
    "newPull = 0"
   ]
  },
  {
   "cell_type": "code",
   "execution_count": 128,
   "metadata": {},
   "outputs": [],
   "source": [
    "df = pd.DataFrame()\n",
    "i = 0\n",
    "for key in urls:\n",
    "    if newPull == 0:\n",
    "        EIAData = requests.get(urls[key])\n",
    "        EIAData = EIAData.content.decode(\"utf-8\")\n",
    "        EIAdict = json.loads(EIAData)\n",
    "        \n",
    "    dfEIA = pd.DataFrame.from_dict(EIAdict['series'])\n",
    "    dfEIA = dfEIA['data'][0]\n",
    "        \n",
    "    dfEIA = pd.DataFrame(dfEIA)\n",
    "    #print(dfEIA[0])\n",
    "    \n",
    "    while i != 1:\n",
    "        df['DateTime'] = pd.to_datetime(dfEIA[0],format='%Y%m', errors='ignore')\n",
    "        #df['DateTime'] = df['DateTime'].dt.tz_localize('US/Pacific')\n",
    "        i += 1\n",
    "        \n",
    "    df[str(key)] = dfEIA[1]\n",
    "    \n",
    "    # Set DateTime as index of the dataframe (tz-aware)\n",
    "df.index = df['DateTime']\n",
    "df = df.drop('DateTime',axis=1)"
   ]
  },
  {
   "cell_type": "code",
   "execution_count": 129,
   "metadata": {},
   "outputs": [
    {
     "data": {
      "text/html": [
       "<div>\n",
       "<style scoped>\n",
       "    .dataframe tbody tr th:only-of-type {\n",
       "        vertical-align: middle;\n",
       "    }\n",
       "\n",
       "    .dataframe tbody tr th {\n",
       "        vertical-align: top;\n",
       "    }\n",
       "\n",
       "    .dataframe thead th {\n",
       "        text-align: right;\n",
       "    }\n",
       "</style>\n",
       "<table border=\"1\" class=\"dataframe\">\n",
       "  <thead>\n",
       "    <tr style=\"text-align: right;\">\n",
       "      <th></th>\n",
       "      <th>CA_CustomerCount</th>\n",
       "    </tr>\n",
       "    <tr>\n",
       "      <th>DateTime</th>\n",
       "      <th></th>\n",
       "    </tr>\n",
       "  </thead>\n",
       "  <tbody>\n",
       "    <tr>\n",
       "      <th>2019-01-01</th>\n",
       "      <td>15738193</td>\n",
       "    </tr>\n",
       "    <tr>\n",
       "      <th>2018-12-01</th>\n",
       "      <td>15522084</td>\n",
       "    </tr>\n",
       "    <tr>\n",
       "      <th>2018-11-01</th>\n",
       "      <td>15249111</td>\n",
       "    </tr>\n",
       "    <tr>\n",
       "      <th>2018-10-01</th>\n",
       "      <td>15636937</td>\n",
       "    </tr>\n",
       "    <tr>\n",
       "      <th>2018-09-01</th>\n",
       "      <td>15184379</td>\n",
       "    </tr>\n",
       "  </tbody>\n",
       "</table>\n",
       "</div>"
      ],
      "text/plain": [
       "            CA_CustomerCount\n",
       "DateTime                    \n",
       "2019-01-01          15738193\n",
       "2018-12-01          15522084\n",
       "2018-11-01          15249111\n",
       "2018-10-01          15636937\n",
       "2018-09-01          15184379"
      ]
     },
     "execution_count": 129,
     "metadata": {},
     "output_type": "execute_result"
    }
   ],
   "source": [
    "df.head()"
   ]
  },
  {
   "cell_type": "code",
   "execution_count": 131,
   "metadata": {},
   "outputs": [],
   "source": [
    "#Resample from Monthly to Daily and Interpolate values in between\n",
    "df = df.resample('D').interpolate()"
   ]
  },
  {
   "cell_type": "code",
   "execution_count": 132,
   "metadata": {},
   "outputs": [],
   "source": [
    "df.to_csv('CustomerAccts.csv')"
   ]
  },
  {
   "cell_type": "code",
   "execution_count": 133,
   "metadata": {},
   "outputs": [
    {
     "data": {
      "text/html": [
       "<div>\n",
       "<style scoped>\n",
       "    .dataframe tbody tr th:only-of-type {\n",
       "        vertical-align: middle;\n",
       "    }\n",
       "\n",
       "    .dataframe tbody tr th {\n",
       "        vertical-align: top;\n",
       "    }\n",
       "\n",
       "    .dataframe thead th {\n",
       "        text-align: right;\n",
       "    }\n",
       "</style>\n",
       "<table border=\"1\" class=\"dataframe\">\n",
       "  <thead>\n",
       "    <tr style=\"text-align: right;\">\n",
       "      <th></th>\n",
       "      <th>CA_CustomerCount</th>\n",
       "    </tr>\n",
       "    <tr>\n",
       "      <th>DateTime</th>\n",
       "      <th></th>\n",
       "    </tr>\n",
       "  </thead>\n",
       "  <tbody>\n",
       "    <tr>\n",
       "      <th>2018-12-28</th>\n",
       "      <td>1.571031e+07</td>\n",
       "    </tr>\n",
       "    <tr>\n",
       "      <th>2018-12-29</th>\n",
       "      <td>1.571728e+07</td>\n",
       "    </tr>\n",
       "    <tr>\n",
       "      <th>2018-12-30</th>\n",
       "      <td>1.572425e+07</td>\n",
       "    </tr>\n",
       "    <tr>\n",
       "      <th>2018-12-31</th>\n",
       "      <td>1.573122e+07</td>\n",
       "    </tr>\n",
       "    <tr>\n",
       "      <th>2019-01-01</th>\n",
       "      <td>1.573819e+07</td>\n",
       "    </tr>\n",
       "  </tbody>\n",
       "</table>\n",
       "</div>"
      ],
      "text/plain": [
       "            CA_CustomerCount\n",
       "DateTime                    \n",
       "2018-12-28      1.571031e+07\n",
       "2018-12-29      1.571728e+07\n",
       "2018-12-30      1.572425e+07\n",
       "2018-12-31      1.573122e+07\n",
       "2019-01-01      1.573819e+07"
      ]
     },
     "execution_count": 133,
     "metadata": {},
     "output_type": "execute_result"
    }
   ],
   "source": [
    "df.tail()"
   ]
  },
  {
   "cell_type": "code",
   "execution_count": null,
   "metadata": {},
   "outputs": [],
   "source": []
  }
 ],
 "metadata": {
  "kernelspec": {
   "display_name": "Python 3",
   "language": "python",
   "name": "python3"
  },
  "language_info": {
   "codemirror_mode": {
    "name": "ipython",
    "version": 3
   },
   "file_extension": ".py",
   "mimetype": "text/x-python",
   "name": "python",
   "nbconvert_exporter": "python",
   "pygments_lexer": "ipython3",
   "version": "3.6.8"
  }
 },
 "nbformat": 4,
 "nbformat_minor": 2
}
